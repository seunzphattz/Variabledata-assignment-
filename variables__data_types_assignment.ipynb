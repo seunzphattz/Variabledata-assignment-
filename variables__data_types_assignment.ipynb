{
 "cells": [
  {
   "cell_type": "markdown",
   "metadata": {},
   "source": [
    "\n",
    "\n",
    "1. What is a variable?\n",
    "\n",
    "2. Give 5 examples of variables with corresponding values.\n",
    "\n",
    "3. State the data type for each of the following variables:\n",
    "- b = False\n",
    "- number = \"1000\"\n",
    "- radius = 7.0\n",
    "- diameter = 14\n",
    "- country = 'Nigeria'\n",
    "\n",
    "4. Fix this string\n",
    "quote = 'You're right, he won't agree to this deal.'\n",
    "\n",
    "5. What happens when you call a string method like islower() on a float object? For example, 15.55.islower()\n",
    "\n",
    "6. Write two lines of code each assigning a value to a variable. Now write a print statement using .format() to print out a sentence containing the values of both of the variables.\n",
    "\n",
    "\n",
    "7. You’ve been provided below with example data for a user, the time of their visit and the site they accessed. You should use the variables provided and the techniques you’ve learned to print a log message like this one  \"Amina accessed the site http://kadatemy.com/courses/pythonfordatascience/class1 at 09:20.\" (with the username, url, and timestamp replaced with values from the appropriate variables). \n"
   ]
  },
  {
   "cell_type": "code",
   "execution_count": 2,
   "metadata": {},
   "outputs": [],
   "source": [
    "username = \"Faith\"\n",
    "timestamp = \"07:50\"\n",
    "url = \"http://kadatemy.com/courses/pythonfordatascience/class1\"\n",
    "\n"
   ]
  },
  {
   "cell_type": "markdown",
   "metadata": {},
   "source": [
    "8. Consider this string\n",
    "str1 = \"Python exercises are fun. It is very satisfying to solve problems using this computer language.\"\n",
    "- a- Print the length of the string\n",
    "- b- Show the first and last characters of the string.\n",
    "- c- print the characters \"exercises\" from the string using the right index, do the same for \"language\".\n",
    "- d- By using first, second and last characters of the string, create a new string\n",
    "- e- Which character occurs more often in the string? \"e\" or \"s\" ? Print both counts inside the print function.\n",
    "\n",
    "9. Consider this string \n",
    "str2 = \"  I'm enjoying this a lot! I could do with more exercises.   \"\n",
    "- a- Return the string without any whitespace at the beginning or the end.\n",
    "- b- what is the result of using the method isnumeric() on this string\n",
    "- c- usind a method, return the last position of where \"i\" is found\n",
    "\n",
    "10. Return the output of concatenating the strings provided in in question 8 and 9.\n",
    "\n",
    "11. Use an appropriate method that returns True if all characters in this string are digits.\n",
    "x = \"3490003\""
   ]
  },
  {
   "cell_type": "markdown",
   "metadata": {},
   "source": [
    "What is a variable? Variables are letters or word used to assign value to a function or data type that is liable to change.\n",
    "# 5 examples of variables with values\n",
    "name = \"Seun\"\n",
    "i = 7.2\n",
    "p = 700\n",
    "count = 1 + 2\n",
    "numbers = \"7\""
   ]
  },
  {
   "cell_type": "code",
   "execution_count": null,
   "metadata": {},
   "outputs": [],
   "source": [
    "Types of Data types\n",
    "Boolean\n",
    "str\n",
    "float\n",
    "integer\n",
    "str"
   ]
  },
  {
   "cell_type": "markdown",
   "metadata": {},
   "source": [
    "4\n"
   ]
  },
  {
   "cell_type": "code",
   "execution_count": 2,
   "metadata": {},
   "outputs": [
    {
     "name": "stdout",
     "output_type": "stream",
     "text": [
      "You're right, he won't agree to this deal.\n"
     ]
    }
   ],
   "source": [
    "a = \"You're right, he won't agree to this deal.\"\n",
    "print(a)"
   ]
  },
  {
   "cell_type": "markdown",
   "metadata": {},
   "source": [
    "5 ) What happens when you call a string method like islower() on a float object? For example, 15.55.islower(). It will return false"
   ]
  },
  {
   "cell_type": "code",
   "execution_count": 10,
   "metadata": {},
   "outputs": [],
   "source": [
    "a = 15.5\n",
    "b = str(a)\n",
    "c= b.islower()"
   ]
  },
  {
   "cell_type": "markdown",
   "metadata": {},
   "source": [
    "6\n",
    "Write two lines of code each assigning a value to a variable. Now write a print statement using .format() to print out a sentence containing the values of both of the variables."
   ]
  },
  {
   "cell_type": "code",
   "execution_count": 22,
   "metadata": {},
   "outputs": [
    {
     "name": "stdout",
     "output_type": "stream",
     "text": [
      "I have 22 cars\n"
     ]
    }
   ],
   "source": [
    "cars = 22\n",
    "text = \"I have {} cars\"\n",
    "b = text.format(cars)\n",
    "print(b)\n"
   ]
  },
  {
   "cell_type": "markdown",
   "metadata": {},
   "source": [
    "You’ve been provided below with example data for a user, the time of their visit and the site they accessed. You should use the variables provided and the techniques you’ve learned to print a log message like this one \"Amina accessed the site http://kadatemy.com/courses/pythonfordatascience/class1 at 09:20.\" (with the username, url, and timestamp replaced with values from the appropriate variables)."
   ]
  },
  {
   "cell_type": "code",
   "execution_count": 35,
   "metadata": {},
   "outputs": [
    {
     "name": "stdout",
     "output_type": "stream",
     "text": [
      "Faith accessed the site  http://kadatemy.com/courses/pythonfordatascience/class1 at 07:50\n"
     ]
    }
   ],
   "source": [
    "timestamp = \"07:50\"\n",
    "name = \"Faith\"\n",
    "url = \" http://kadatemy.com/courses/pythonfordatascience/class1\"\n",
    "b = text.format(name,url,timestamp)\n",
    "print(b)\n",
    "\n"
   ]
  },
  {
   "cell_type": "markdown",
   "metadata": {},
   "source": [
    "Consider this string str1 = \"Python exercises are fun. It is very satisfying to solve problems using this computer language.\"\n",
    "a- Print the length of the string\n",
    "b- Show the first and last characters of the string.\n",
    "c- print the characters \"exercises\" from the string using the right index, do the same for \"language\".\n",
    "d- By using first, second and last characters of the string, create a new string\n",
    "e- Which character occurs more often in the string? \"e\" or \"s\" ? Print both counts inside the print function."
   ]
  },
  {
   "cell_type": "code",
   "execution_count": 108,
   "metadata": {},
   "outputs": [
    {
     "name": "stdout",
     "output_type": "stream",
     "text": [
      "95\n",
      "P\n",
      ".\n",
      "Py.\n",
      "exercises \n",
      "13\n",
      "9\n"
     ]
    }
   ],
   "source": [
    "str1 = \"Python exercises are fun. It is very satisfying to solve problems using this computer language.\"\n",
    "a = len(str1)\n",
    "print(a)\n",
    "b = str1[0]\n",
    "c = str1[1]\n",
    "d  = str1[-1]\n",
    "print(b)\n",
    "print(d)\n",
    "print(b + c + d)\n",
    "print(str1[7:17])\n",
    "print(str1.find(\"s\"))\n",
    "print(str1.count(\"e\" and \"s\"))\n",
    "\n",
    "    \n",
    "#c- print the characters \"exercises\" from the string using the right index, do the same for \"language\".\n",
    "#d- By using first, second and last characters of the string, create a new string\n",
    "#e- Which character occurs more often in the string? \"e\" or \"s\" ? Print both counts inside the print function."
   ]
  },
  {
   "cell_type": "markdown",
   "metadata": {},
   "source": [
    "9) Consider this string str2 = \" I'm enjoying this a lot! I could do with more exercises. \"\n",
    "a- Return the string without any whitespace at the beginning or the end.\n",
    "b- what is the result of using the method isnumeric() on this string\n",
    "c- usind a method, return the last position of where \"i\" is found"
   ]
  },
  {
   "cell_type": "code",
   "execution_count": 112,
   "metadata": {},
   "outputs": [
    {
     "name": "stdout",
     "output_type": "stream",
     "text": [
      "I'm enjoying this a lot! I could do with more exercises.\n"
     ]
    }
   ],
   "source": [
    "str2 = \" I'm enjoying this a lot! I could do with more exercises. \"\n",
    "b = str2.strip()\n",
    "print(b)\n"
   ]
  },
  {
   "cell_type": "markdown",
   "metadata": {},
   "source": [
    "9b) Using Isnumeric() will return false because none of the character in str2 is numeric\n"
   ]
  },
  {
   "cell_type": "markdown",
   "metadata": {},
   "source": [
    "10. Return the output of concatenating the strings provided in in question 8 and 9."
   ]
  },
  {
   "cell_type": "code",
   "execution_count": 114,
   "metadata": {},
   "outputs": [
    {
     "name": "stdout",
     "output_type": "stream",
     "text": [
      "Python exercises are fun. It is very satisfying to solve problems using this computer language. I'm enjoying this a lot! I could do with more exercises. \n"
     ]
    }
   ],
   "source": [
    "str1 = \"Python exercises are fun. It is very satisfying to solve problems using this computer language.\"\n",
    "str2 =  \" I'm enjoying this a lot! I could do with more exercises. \"\n",
    "b = str1 + str2\n",
    "print(b)"
   ]
  },
  {
   "cell_type": "markdown",
   "metadata": {},
   "source": [
    "11. Use an appropriate method that returns True if all characters in this string are digits. x = \"3490003\""
   ]
  },
  {
   "cell_type": "code",
   "execution_count": 118,
   "metadata": {},
   "outputs": [
    {
     "name": "stdout",
     "output_type": "stream",
     "text": [
      "<built-in method isdigit of str object at 0x000001CD4B3A5770>\n"
     ]
    }
   ],
   "source": [
    "x = \"3490003\"\n",
    "b = x.isdigit\n",
    "print(b)"
   ]
  }
 ],
 "metadata": {
  "kernelspec": {
   "display_name": "Python 3",
   "language": "python",
   "name": "python3"
  },
  "language_info": {
   "codemirror_mode": {
    "name": "ipython",
    "version": 3
   },
   "file_extension": ".py",
   "mimetype": "text/x-python",
   "name": "python",
   "nbconvert_exporter": "python",
   "pygments_lexer": "ipython3",
   "version": "3.8.8"
  }
 },
 "nbformat": 4,
 "nbformat_minor": 4
}
